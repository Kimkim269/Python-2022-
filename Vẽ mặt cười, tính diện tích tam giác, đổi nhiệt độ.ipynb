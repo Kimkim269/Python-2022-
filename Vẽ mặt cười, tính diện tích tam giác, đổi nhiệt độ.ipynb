{
 "cells": [
  {
   "cell_type": "code",
   "execution_count": 24,
   "id": "d495d11a",
   "metadata": {},
   "outputs": [],
   "source": [
    "# Bài thực hành vẽ mặt cười\n",
    "import turtle\n",
    "pen = turtle.Turtle()\n",
    "pen.pensize(5)\n",
    "pen.pencolor(\"#3933FF\") # Đổi nét vẽ\n",
    "pen.shape(\"circle\")  # Đổi hình dạng bút\n",
    "pen.penup()\n",
    "pen.goto(0, -200)\n",
    "pen.pendown()\n",
    "facesize = 200\n",
    "pen.circle(facesize)\n",
    "pen.penup()\n",
    "pen.goto(50, 50)\n",
    "\n",
    "pen.begin_fill()\n",
    "pen.pendown()\n",
    "eyesize1 = 10\n",
    "pen.circle(eyesize1)\n",
    "pen.end_fill()\n",
    "\n",
    "pen.penup()\n",
    "pen.goto(-50, 50)\n",
    "\n",
    "pen.begin_fill()\n",
    "pen.pendown()\n",
    "eyesize2 = 10\n",
    "pen.circle(eyesize2)\n",
    "pen.end_fill()\n",
    " \n",
    "pen.penup()\n",
    "pen.goto(0, -50)\n",
    "\n",
    "pen.begin_fill()\n",
    "pen.pendown()\n",
    "nosesize = 10\n",
    "pen.circle(nosesize, steps = 3) # Step để vẽ ra số cạnh mong muốn\n",
    "pen.end_fill()\n",
    "\n",
    "pen.penup()\n",
    "pen.goto(-60, -100)\n",
    "\n",
    "pen.begin_fill()\n",
    "pen.pendown()\n",
    "pen.right(90)\n",
    "pen.circle(60, 180)\n",
    "pen.end_fill()\n",
    "\n",
    "turtle.done()"
   ]
  },
  {
   "cell_type": "code",
   "execution_count": 16,
   "id": "b6cd08b5",
   "metadata": {},
   "outputs": [
    {
     "name": "stdout",
     "output_type": "stream",
     "text": [
      "Nhập độ dài cạnh a= 5\n",
      "Nhập độ dài cạnh b= 4\n",
      "Nhập độ dài cạnh c= 7\n",
      "Diện tích của tam giác là:  9.797958971132712\n"
     ]
    }
   ],
   "source": [
    "# Thực hành tính diện tích tam giác\n",
    "import math\n",
    "a = float(input('Nhập độ dài cạnh a= '))\n",
    "b = float(input('Nhập độ dài cạnh b= '))\n",
    "c = float(input('Nhập độ dài cạnh c= '))\n",
    "p = (a + b + c) / 2\n",
    "s = (p * (p - a) * (p - b) * (p - c)) ** 0.5\n",
    "print('Diện tích của tam giác là: ', s)"
   ]
  },
  {
   "cell_type": "code",
   "execution_count": 4,
   "id": "c4fc0cea",
   "metadata": {},
   "outputs": [
    {
     "name": "stdout",
     "output_type": "stream",
     "text": [
      "Hãy nhập nhiệt độ cần đổi32\n",
      "Nhiệt độ khi chuyển thanh độ f là:  89.6\n"
     ]
    }
   ],
   "source": [
    "# Bài thực hành chuyển đổi nhiệt độ\n",
    "c = input('Hãy nhập nhiệt độ cần đổi')\n",
    "f = (9*(int(c))/5)+32\n",
    "print('Nhiệt độ khi chuyển thanh độ f là: ', f)"
   ]
  },
  {
   "cell_type": "code",
   "execution_count": null,
   "id": "7d6f6b2e",
   "metadata": {},
   "outputs": [],
   "source": []
  }
 ],
 "metadata": {
  "kernelspec": {
   "display_name": "Python 3 (ipykernel)",
   "language": "python",
   "name": "python3"
  },
  "language_info": {
   "codemirror_mode": {
    "name": "ipython",
    "version": 3
   },
   "file_extension": ".py",
   "mimetype": "text/x-python",
   "name": "python",
   "nbconvert_exporter": "python",
   "pygments_lexer": "ipython3",
   "version": "3.10.4"
  }
 },
 "nbformat": 4,
 "nbformat_minor": 5
}
