{
 "cells": [
  {
   "cell_type": "markdown",
   "id": "05948314",
   "metadata": {},
   "source": [
    "# Function"
   ]
  },
  {
   "cell_type": "code",
   "execution_count": 5,
   "id": "6e2d913c",
   "metadata": {},
   "outputs": [
    {
     "name": "stdout",
     "output_type": "stream",
     "text": [
      "Nhập tên thứ nhất: Hoa\n",
      "Nhập tên thứ hai: Hoan\n",
      "Nhập tên thứ ba: Hanh\n",
      "Tên của ba người là:  Hoa , Hoan , Hanh\n"
     ]
    }
   ],
   "source": [
    "# Viết chương trình nhập vào tên của 3 học viên khác nhau\n",
    "# và in ra tên của 3 học viên đó\n",
    "name1 = input('Nhập tên thứ nhất: ')\n",
    "name2 = input('Nhập tên thứ hai: ')\n",
    "name3 = input('Nhập tên thứ ba: ')\n",
    "print('Tên của ba người là: ', name1, ',', name2 ,',', name3)"
   ]
  },
  {
   "cell_type": "code",
   "execution_count": 6,
   "id": "9e64053b",
   "metadata": {},
   "outputs": [
    {
     "name": "stdout",
     "output_type": "stream",
     "text": [
      "Nhập tên học viên 1: Hoàng\n",
      "Hoàng\n",
      "Nhập tên học viên 2: Hoan\n",
      "Hoan\n",
      "Nhập tên học viên 3: Hoa\n",
      "Hoa\n",
      "Tên dài nhất có 5 kí tự\n"
     ]
    }
   ],
   "source": [
    "# Viết chương trình nhập vào tên của 3 học viên khác nhau\n",
    "# In ra tên của 3 học viên, sau đó cho biết tên dài nhất có bao nhiêu kí tự\n",
    "a = 0\n",
    "for i in range(3):\n",
    "    ten = str(input(f'Nhập tên học viên {i + 1}: '))\n",
    "    print(ten)\n",
    "    if len(ten) > a:\n",
    "        a = len(ten)\n",
    "print(f'Tên dài nhất có {a} kí tự')"
   ]
  },
  {
   "cell_type": "markdown",
   "id": "3b68247e",
   "metadata": {},
   "source": [
    "## Function(hàm) là gì?"
   ]
  },
  {
   "cell_type": "markdown",
   "id": "cf84a685",
   "metadata": {},
   "source": [
    "Hàm (function) là một khối lệnh đặc biệt, nó được đặt tên, giúp mã chương trình dễ đọc hơn, và có thể gọi để sử dụng ở các nơi khác nhau trong chương trình. Hàm chính là khối lệnh có thể tái sử dụng (reuseable)."
   ]
  },
  {
   "cell_type": "markdown",
   "id": "3636c8b1",
   "metadata": {},
   "source": [
    "### Hàm\n",
    "\n",
    "Cú pháp:\n",
    "\n",
    "`def <tên hàm>(<tham số)>:\n",
    "    //Nội dung hàm`\n",
    "\n",
    "Gọi hàm:\n",
    "`<tên hàm>(<giá trị đầu vào>)`"
   ]
  },
  {
   "cell_type": "markdown",
   "id": "18f95aa8",
   "metadata": {},
   "source": [
    "### Ví dụ: Hàm in"
   ]
  },
  {
   "cell_type": "code",
   "execution_count": 9,
   "id": "0753ca43",
   "metadata": {},
   "outputs": [
    {
     "name": "stdout",
     "output_type": "stream",
     "text": [
      "a\n"
     ]
    }
   ],
   "source": [
    "print('a')"
   ]
  },
  {
   "cell_type": "markdown",
   "id": "29c55e2b",
   "metadata": {},
   "source": [
    "### Ví dụ: Hàm tính giá trị tuyệt đối"
   ]
  },
  {
   "cell_type": "code",
   "execution_count": 7,
   "id": "e492700a",
   "metadata": {},
   "outputs": [
    {
     "data": {
      "text/plain": [
       "2"
      ]
     },
     "execution_count": 7,
     "metadata": {},
     "output_type": "execute_result"
    }
   ],
   "source": [
    "abs(-2)"
   ]
  },
  {
   "cell_type": "markdown",
   "id": "07fa617d",
   "metadata": {},
   "source": [
    "### Ví dụ: Hàm vẽ hình tròn"
   ]
  },
  {
   "cell_type": "code",
   "execution_count": 13,
   "id": "2a2dec85",
   "metadata": {},
   "outputs": [
    {
     "ename": "TclError",
     "evalue": "invalid command name \".!canvas\"",
     "output_type": "error",
     "traceback": [
      "\u001b[1;31m---------------------------------------------------------------------------\u001b[0m",
      "\u001b[1;31mTclError\u001b[0m                                  Traceback (most recent call last)",
      "Input \u001b[1;32mIn [13]\u001b[0m, in \u001b[0;36m<module>\u001b[1;34m\u001b[0m\n\u001b[0;32m      1\u001b[0m \u001b[38;5;28;01mimport\u001b[39;00m \u001b[38;5;21;01mturtle\u001b[39;00m\n\u001b[0;32m      2\u001b[0m pen \u001b[38;5;241m=\u001b[39m turtle\u001b[38;5;241m.\u001b[39mTurtle()\n\u001b[1;32m----> 3\u001b[0m \u001b[43mpen\u001b[49m\u001b[38;5;241;43m.\u001b[39;49m\u001b[43mcircle\u001b[49m\u001b[43m(\u001b[49m\u001b[38;5;241;43m100\u001b[39;49m\u001b[43m)\u001b[49m\n\u001b[0;32m      4\u001b[0m turtel\u001b[38;5;241m.\u001b[39mdone()\n",
      "File \u001b[1;32m~\\AppData\\Local\\Programs\\Python\\Python310\\lib\\turtle.py:1992\u001b[0m, in \u001b[0;36mTNavigator.circle\u001b[1;34m(self, radius, extent, steps)\u001b[0m\n\u001b[0;32m   1990\u001b[0m \u001b[38;5;28;01mfor\u001b[39;00m i \u001b[38;5;129;01min\u001b[39;00m \u001b[38;5;28mrange\u001b[39m(steps):\n\u001b[0;32m   1991\u001b[0m     \u001b[38;5;28mself\u001b[39m\u001b[38;5;241m.\u001b[39mspeed(speed)\n\u001b[1;32m-> 1992\u001b[0m     \u001b[38;5;28;43mself\u001b[39;49m\u001b[38;5;241;43m.\u001b[39;49m\u001b[43m_go\u001b[49m\u001b[43m(\u001b[49m\u001b[43ml\u001b[49m\u001b[43m)\u001b[49m\n\u001b[0;32m   1993\u001b[0m     \u001b[38;5;28mself\u001b[39m\u001b[38;5;241m.\u001b[39mspeed(\u001b[38;5;241m0\u001b[39m)\n\u001b[0;32m   1994\u001b[0m     \u001b[38;5;28mself\u001b[39m\u001b[38;5;241m.\u001b[39m_rotate(w)\n",
      "File \u001b[1;32m~\\AppData\\Local\\Programs\\Python\\Python310\\lib\\turtle.py:1606\u001b[0m, in \u001b[0;36mTNavigator._go\u001b[1;34m(self, distance)\u001b[0m\n\u001b[0;32m   1604\u001b[0m \u001b[38;5;124;03m\"\"\"move turtle forward by specified distance\"\"\"\u001b[39;00m\n\u001b[0;32m   1605\u001b[0m ende \u001b[38;5;241m=\u001b[39m \u001b[38;5;28mself\u001b[39m\u001b[38;5;241m.\u001b[39m_position \u001b[38;5;241m+\u001b[39m \u001b[38;5;28mself\u001b[39m\u001b[38;5;241m.\u001b[39m_orient \u001b[38;5;241m*\u001b[39m distance\n\u001b[1;32m-> 1606\u001b[0m \u001b[38;5;28;43mself\u001b[39;49m\u001b[38;5;241;43m.\u001b[39;49m\u001b[43m_goto\u001b[49m\u001b[43m(\u001b[49m\u001b[43mende\u001b[49m\u001b[43m)\u001b[49m\n",
      "File \u001b[1;32m~\\AppData\\Local\\Programs\\Python\\Python310\\lib\\turtle.py:3160\u001b[0m, in \u001b[0;36mRawTurtle._goto\u001b[1;34m(self, end)\u001b[0m\n\u001b[0;32m   3152\u001b[0m go_modes \u001b[38;5;241m=\u001b[39m ( \u001b[38;5;28mself\u001b[39m\u001b[38;5;241m.\u001b[39m_drawing,\n\u001b[0;32m   3153\u001b[0m              \u001b[38;5;28mself\u001b[39m\u001b[38;5;241m.\u001b[39m_pencolor,\n\u001b[0;32m   3154\u001b[0m              \u001b[38;5;28mself\u001b[39m\u001b[38;5;241m.\u001b[39m_pensize,\n\u001b[0;32m   3155\u001b[0m              \u001b[38;5;28misinstance\u001b[39m(\u001b[38;5;28mself\u001b[39m\u001b[38;5;241m.\u001b[39m_fillpath, \u001b[38;5;28mlist\u001b[39m))\n\u001b[0;32m   3156\u001b[0m screen \u001b[38;5;241m=\u001b[39m \u001b[38;5;28mself\u001b[39m\u001b[38;5;241m.\u001b[39mscreen\n\u001b[0;32m   3157\u001b[0m undo_entry \u001b[38;5;241m=\u001b[39m (\u001b[38;5;124m\"\u001b[39m\u001b[38;5;124mgo\u001b[39m\u001b[38;5;124m\"\u001b[39m, \u001b[38;5;28mself\u001b[39m\u001b[38;5;241m.\u001b[39m_position, end, go_modes,\n\u001b[0;32m   3158\u001b[0m               (\u001b[38;5;28mself\u001b[39m\u001b[38;5;241m.\u001b[39mcurrentLineItem,\n\u001b[0;32m   3159\u001b[0m               \u001b[38;5;28mself\u001b[39m\u001b[38;5;241m.\u001b[39mcurrentLine[:],\n\u001b[1;32m-> 3160\u001b[0m               \u001b[43mscreen\u001b[49m\u001b[38;5;241;43m.\u001b[39;49m\u001b[43m_pointlist\u001b[49m\u001b[43m(\u001b[49m\u001b[38;5;28;43mself\u001b[39;49m\u001b[38;5;241;43m.\u001b[39;49m\u001b[43mcurrentLineItem\u001b[49m\u001b[43m)\u001b[49m,\n\u001b[0;32m   3161\u001b[0m               \u001b[38;5;28mself\u001b[39m\u001b[38;5;241m.\u001b[39mitems[:])\n\u001b[0;32m   3162\u001b[0m               )\n\u001b[0;32m   3163\u001b[0m \u001b[38;5;28;01mif\u001b[39;00m \u001b[38;5;28mself\u001b[39m\u001b[38;5;241m.\u001b[39mundobuffer:\n\u001b[0;32m   3164\u001b[0m     \u001b[38;5;28mself\u001b[39m\u001b[38;5;241m.\u001b[39mundobuffer\u001b[38;5;241m.\u001b[39mpush(undo_entry)\n",
      "File \u001b[1;32m~\\AppData\\Local\\Programs\\Python\\Python310\\lib\\turtle.py:754\u001b[0m, in \u001b[0;36mTurtleScreenBase._pointlist\u001b[1;34m(self, item)\u001b[0m\n\u001b[0;32m    746\u001b[0m \u001b[38;5;28;01mdef\u001b[39;00m \u001b[38;5;21m_pointlist\u001b[39m(\u001b[38;5;28mself\u001b[39m, item):\n\u001b[0;32m    747\u001b[0m     \u001b[38;5;124;03m\"\"\"returns list of coordinate-pairs of points of item\u001b[39;00m\n\u001b[0;32m    748\u001b[0m \u001b[38;5;124;03m    Example (for insiders):\u001b[39;00m\n\u001b[0;32m    749\u001b[0m \u001b[38;5;124;03m    >>> from turtle import *\u001b[39;00m\n\u001b[1;32m   (...)\u001b[0m\n\u001b[0;32m    752\u001b[0m \u001b[38;5;124;03m    (9.9999999999999982, 0.0)]\u001b[39;00m\n\u001b[0;32m    753\u001b[0m \u001b[38;5;124;03m    >>> \"\"\"\u001b[39;00m\n\u001b[1;32m--> 754\u001b[0m     cl \u001b[38;5;241m=\u001b[39m \u001b[38;5;28;43mself\u001b[39;49m\u001b[38;5;241;43m.\u001b[39;49m\u001b[43mcv\u001b[49m\u001b[38;5;241;43m.\u001b[39;49m\u001b[43mcoords\u001b[49m\u001b[43m(\u001b[49m\u001b[43mitem\u001b[49m\u001b[43m)\u001b[49m\n\u001b[0;32m    755\u001b[0m     pl \u001b[38;5;241m=\u001b[39m [(cl[i], \u001b[38;5;241m-\u001b[39mcl[i\u001b[38;5;241m+\u001b[39m\u001b[38;5;241m1\u001b[39m]) \u001b[38;5;28;01mfor\u001b[39;00m i \u001b[38;5;129;01min\u001b[39;00m \u001b[38;5;28mrange\u001b[39m(\u001b[38;5;241m0\u001b[39m, \u001b[38;5;28mlen\u001b[39m(cl), \u001b[38;5;241m2\u001b[39m)]\n\u001b[0;32m    756\u001b[0m     \u001b[38;5;28;01mreturn\u001b[39;00m  pl\n",
      "File \u001b[1;32m<string>:1\u001b[0m, in \u001b[0;36mcoords\u001b[1;34m(self, *args, **kw)\u001b[0m\n",
      "File \u001b[1;32m~\\AppData\\Local\\Programs\\Python\\Python310\\lib\\tkinter\\__init__.py:2795\u001b[0m, in \u001b[0;36mCanvas.coords\u001b[1;34m(self, *args)\u001b[0m\n\u001b[0;32m   2791\u001b[0m \u001b[38;5;124;03m\"\"\"Return a list of coordinates for the item given in ARGS.\"\"\"\u001b[39;00m\n\u001b[0;32m   2792\u001b[0m \u001b[38;5;66;03m# XXX Should use _flatten on args\u001b[39;00m\n\u001b[0;32m   2793\u001b[0m \u001b[38;5;28;01mreturn\u001b[39;00m [\u001b[38;5;28mself\u001b[39m\u001b[38;5;241m.\u001b[39mtk\u001b[38;5;241m.\u001b[39mgetdouble(x) \u001b[38;5;28;01mfor\u001b[39;00m x \u001b[38;5;129;01min\u001b[39;00m\n\u001b[0;32m   2794\u001b[0m                    \u001b[38;5;28mself\u001b[39m\u001b[38;5;241m.\u001b[39mtk\u001b[38;5;241m.\u001b[39msplitlist(\n\u001b[1;32m-> 2795\u001b[0m            \u001b[38;5;28;43mself\u001b[39;49m\u001b[38;5;241;43m.\u001b[39;49m\u001b[43mtk\u001b[49m\u001b[38;5;241;43m.\u001b[39;49m\u001b[43mcall\u001b[49m\u001b[43m(\u001b[49m\u001b[43m(\u001b[49m\u001b[38;5;28;43mself\u001b[39;49m\u001b[38;5;241;43m.\u001b[39;49m\u001b[43m_w\u001b[49m\u001b[43m,\u001b[49m\u001b[43m \u001b[49m\u001b[38;5;124;43m'\u001b[39;49m\u001b[38;5;124;43mcoords\u001b[39;49m\u001b[38;5;124;43m'\u001b[39;49m\u001b[43m)\u001b[49m\u001b[43m \u001b[49m\u001b[38;5;241;43m+\u001b[39;49m\u001b[43m \u001b[49m\u001b[43margs\u001b[49m\u001b[43m)\u001b[49m)]\n",
      "\u001b[1;31mTclError\u001b[0m: invalid command name \".!canvas\""
     ]
    }
   ],
   "source": [
    "import turtle\n",
    "pen = turtle.Turtle()\n",
    "pen.circle(100)\n",
    "turtel.done()"
   ]
  },
  {
   "cell_type": "markdown",
   "id": "c4575e29",
   "metadata": {},
   "source": [
    "## Xây dựng và sử dụng hàm trong python"
   ]
  },
  {
   "cell_type": "markdown",
   "id": "00ac6720",
   "metadata": {},
   "source": [
    "### Hàm say_hello"
   ]
  },
  {
   "cell_type": "code",
   "execution_count": 14,
   "id": "47575691",
   "metadata": {},
   "outputs": [],
   "source": [
    "# Tạo ra 1 hàm say_hello() để in 'Hello World' ra màn hình\n",
    "def say_hello():\n",
    "    print('Hello Word')\n",
    "    "
   ]
  },
  {
   "cell_type": "code",
   "execution_count": 15,
   "id": "748bbcb4",
   "metadata": {},
   "outputs": [
    {
     "name": "stdout",
     "output_type": "stream",
     "text": [
      "Hello Word\n"
     ]
    }
   ],
   "source": [
    "# Gọi hàm\n",
    "say_hello()"
   ]
  },
  {
   "cell_type": "markdown",
   "id": "f9b6f894",
   "metadata": {},
   "source": [
    "### Hàm vẽ cây thông"
   ]
  },
  {
   "cell_type": "code",
   "execution_count": 20,
   "id": "0994ceed",
   "metadata": {},
   "outputs": [],
   "source": [
    "import turtle\n",
    "def ve_cay_thong():\n",
    "    pen = turtle.Turtle()\n",
    "    pen.speed(9)\n",
    "    # Vẽ lá cây\n",
    "    pen.pencolor('#21610B')\n",
    "    pen.fillcolor('#21610B')\n",
    "    pen.begin_fill()\n",
    "    \n",
    "    pen.right(180)\n",
    "    pen.goto(0,40)\n",
    "    pen.circle(50, steps = 3)\n",
    "    pen.end_fill()\n",
    "    \n",
    "    pen.penup()\n",
    "    pen.goto(0,10)\n",
    "    pen.pendown()\n",
    "    \n",
    "    pen.fillcolor('#21610B')\n",
    "    pen.begin_fill()\n",
    "    \n",
    "    pen.circle(50, steps = 3)\n",
    "    pen.end_fill()\n",
    "    \n",
    "    pen.penup()\n",
    "    pen.goto(0,-20)\n",
    "    pen.pendown()\n",
    "    \n",
    "    pen.fillcolor('#21610B')\n",
    "    pen.begin_fill()\n",
    "        \n",
    "    pen.circle(50, steps = 3)\n",
    "    pen.end_fill()\n",
    "    \n",
    "    # Vẽ thân cây\n",
    "    pen.penup()\n",
    "    pen.goto(19,-95)\n",
    "    pen.pendown()\n",
    "    pen.pencolor('#886A08')\n",
    "    pen.fillcolor('#886A08')\n",
    "    pen.begin_fill()\n",
    "    pen.left(90)\n",
    "\n",
    "    pen.forward(100)\n",
    "    pen.right(90)\n",
    "    pen.forward(40)\n",
    "    pen.right(90)\n",
    "    pen.forward(100)\n",
    "    pen.right(90)\n",
    "    pen.forward(40)\n",
    "    pen.end_fill()\n",
    "    turtle.done()"
   ]
  },
  {
   "cell_type": "code",
   "execution_count": 21,
   "id": "5004cbc6",
   "metadata": {},
   "outputs": [],
   "source": [
    "ve_cay_thong()"
   ]
  },
  {
   "attachments": {
    "image.png": {
     "image/png": "[encoded data removed]"
    }
   },
   "cell_type": "markdown",
   "id": "08fa2b6b",
   "metadata": {},
   "source": [
    "### Thực hành: Viết hàm vẽ ra hình ảnh như dưới đây:\n",
    "![image.png](attachment:image.png)"
   ]
  },
  {
   "cell_type": "code",
   "execution_count": 3,
   "id": "b3161e2c",
   "metadata": {},
   "outputs": [],
   "source": [
    "import turtle\n",
    "def draw_circle():\n",
    "    size = 10\n",
    "    pen = turtle.Turtle()\n",
    "    for i in range(6):\n",
    "        pen.circle(size)\n",
    "        pen.penup()\n",
    "        pen.rt(90)\n",
    "        pen.fd(20)\n",
    "        pen.lt(90)\n",
    "        pen.pendown()\n",
    "        r += 20\n",
    "        turtle.done()"
   ]
  },
  {
   "cell_type": "code",
   "execution_count": 2,
   "id": "624e4502",
   "metadata": {},
   "outputs": [
    {
     "ename": "UnboundLocalError",
     "evalue": "local variable 'r' referenced before assignment",
     "output_type": "error",
     "traceback": [
      "\u001b[1;31m---------------------------------------------------------------------------\u001b[0m",
      "\u001b[1;31mUnboundLocalError\u001b[0m                         Traceback (most recent call last)",
      "Input \u001b[1;32mIn [2]\u001b[0m, in \u001b[0;36m<module>\u001b[1;34m\u001b[0m\n\u001b[1;32m----> 1\u001b[0m \u001b[43mdraw_circle\u001b[49m\u001b[43m(\u001b[49m\u001b[43m)\u001b[49m\n",
      "Input \u001b[1;32mIn [1]\u001b[0m, in \u001b[0;36mdraw_circle\u001b[1;34m()\u001b[0m\n\u001b[0;32m     10\u001b[0m pen\u001b[38;5;241m.\u001b[39mlt(\u001b[38;5;241m90\u001b[39m)\n\u001b[0;32m     11\u001b[0m pen\u001b[38;5;241m.\u001b[39mpendown()\n\u001b[1;32m---> 12\u001b[0m r \u001b[38;5;241m+\u001b[39m\u001b[38;5;241m=\u001b[39m \u001b[38;5;241m20\u001b[39m\n\u001b[0;32m     13\u001b[0m turtle\u001b[38;5;241m.\u001b[39mdone()\n",
      "\u001b[1;31mUnboundLocalError\u001b[0m: local variable 'r' referenced before assignment"
     ]
    }
   ],
   "source": [
    "draw_circle()"
   ]
  },
  {
   "cell_type": "markdown",
   "id": "77fa1ef1",
   "metadata": {},
   "source": [
    "## doc_string cho hàm"
   ]
  },
  {
   "cell_type": "code",
   "execution_count": 5,
   "id": "8dcf448b",
   "metadata": {},
   "outputs": [],
   "source": [
    "# Hàm tính chu vi hình chữ nhật\n",
    "def chu_vi_hcn():\n",
    "    a = float(input('Nhập a= '))\n",
    "    b = float(input('Nhập b= '))\n",
    "    p = (a + b) * 2\n",
    "    print(f'Chu vi hình chữ nhật là: {p}')"
   ]
  },
  {
   "cell_type": "code",
   "execution_count": 4,
   "id": "f3e706d9",
   "metadata": {},
   "outputs": [
    {
     "name": "stdout",
     "output_type": "stream",
     "text": [
      "Nhập a= 3\n",
      "Nhập b =5\n",
      "Chu vi hình chữ nhật là: 16.0\n"
     ]
    }
   ],
   "source": [
    "chu_vi_hcn()"
   ]
  },
  {
   "cell_type": "code",
   "execution_count": 5,
   "id": "a7dc57e9",
   "metadata": {},
   "outputs": [],
   "source": [
    "# Hàm xếp loại học sinh\n"
   ]
  },
  {
   "cell_type": "markdown",
   "id": "0c5f3f35",
   "metadata": {},
   "source": [
    "## Phạm vi biến"
   ]
  },
  {
   "cell_type": "code",
   "execution_count": 19,
   "id": "b332222c",
   "metadata": {},
   "outputs": [],
   "source": [
    "''''\n",
    "Những biến số được tạo ra bên trong hàm thì chi có thể sử dụng và truy cập\n",
    "khi ở bên trong hàm. hàm kết thúc sẽ bị xóa\n",
    "\n",
    "'''\n",
    "\n",
    "\n",
    "# Hàm tính tổng các số từ 1 đến 10\n",
    "def sum_1_to_10():\n",
    "    tong = 0\n",
    "    for i in range(11):\n",
    "        tong += i\n",
    "    print(f'Tổng của các số từ 1 đến 10 là: {tong}')"
   ]
  },
  {
   "cell_type": "code",
   "execution_count": 20,
   "id": "fd3b9499",
   "metadata": {},
   "outputs": [
    {
     "name": "stdout",
     "output_type": "stream",
     "text": [
      "Tổng của các số từ 1 đến 10 là: 55\n"
     ]
    }
   ],
   "source": [
    "sum_1_to_10()\n"
   ]
  },
  {
   "cell_type": "markdown",
   "id": "7407e8fe",
   "metadata": {},
   "source": [
    "## Đối số của hàm"
   ]
  },
  {
   "cell_type": "code",
   "execution_count": 5,
   "id": "f5787950",
   "metadata": {},
   "outputs": [
    {
     "name": "stdout",
     "output_type": "stream",
     "text": [
      "125\n"
     ]
    }
   ],
   "source": [
    "# Hàm tính thể tích hình lập phương\n",
    "def the_tich_lap_phuong(side):\n",
    "    the_tich = side ** 3\n",
    "    print(the_tich)\n",
    "    \n",
    "the_tich_lap_phuong(5)\n",
    "    "
   ]
  },
  {
   "cell_type": "code",
   "execution_count": 8,
   "id": "8d1bc23b",
   "metadata": {},
   "outputs": [
    {
     "name": "stdout",
     "output_type": "stream",
     "text": [
      "Nhập điểm trung bình của học sinh: 8.0\n",
      "Học sinh là học sinh giỏi\n"
     ]
    }
   ],
   "source": [
    "# Hàm xếp loại học sinh\n",
    "\"\"\"\n",
    "Viết hàm nhập vào điểm trung bình của học sinh và in ra lực học của học sinh\n",
    "Nếu TB >= 8 là học sinh giỏi\n",
    "Nếu TB >=5 là học sinh khá\n",
    "ngược lại là học sinh TB\n",
    "\"\"\"\n",
    "def TB():\n",
    "    TB = float(input('Nhập điểm trung bình của học sinh: '))\n",
    "    if TB >= 8:\n",
    "        print('Học sinh là học sinh giỏi')\n",
    "    elif TB >= 6.5 and TB <= 7.9:\n",
    "        print('Học sinh là học sinh khá')\n",
    "    else:\n",
    "        print('Học sinh là học sinh trung bình')\n",
    "        \n",
    "TB()\n",
    "\n"
   ]
  },
  {
   "cell_type": "code",
   "execution_count": 16,
   "id": "5961aa09",
   "metadata": {},
   "outputs": [
    {
     "name": "stdout",
     "output_type": "stream",
     "text": [
      "Học sinh là học sinh trung bình\n"
     ]
    }
   ],
   "source": [
    "# Hàm xếp loại học sinh sử dụng tham số truyền vào\n",
    "\"\"\"\n",
    "Viết hàm nhập vào điểm trung bình của học sinh và in ra lực học của học sinh\n",
    "Nếu TB >= 8 là học sinh giỏi\n",
    "Nếu TB >=5 là học sinh khá\n",
    "ngược lại là học sinh TB\n",
    "\"\"\"\n",
    "def TB(diem_TB):\n",
    "    if diem_TB >= 8:\n",
    "        print('Học sinh là học sinh giỏi')\n",
    "    elif diem_TB >= 6.5 and diem_TB <= 7.9:\n",
    "        print('Học sinh là học sinh khá')\n",
    "    else:\n",
    "        print('Học sinh là học sinh trung bình')\n",
    "TB(5)"
   ]
  },
  {
   "cell_type": "markdown",
   "id": "1eee19a7",
   "metadata": {},
   "source": [
    "### Thực hành: Viết hàm nhận vào một số nguyên và kiểm tra xem số đó có phải là số nguyên tố hay không.\n"
   ]
  },
  {
   "cell_type": "code",
   "execution_count": 25,
   "id": "d3c5d3a9",
   "metadata": {},
   "outputs": [
    {
     "name": "stdout",
     "output_type": "stream",
     "text": [
      "6 không phải là số nguyên tố\n"
     ]
    }
   ],
   "source": [
    "def nguyen_to(number):\n",
    "    flag = True\n",
    "    for i in range(2,number):\n",
    "        if not number % i:\n",
    "            flag = False\n",
    "            break\n",
    "    if flag:\n",
    "        print(f'{number} là số nguyên tố')\n",
    "    else:\n",
    "        print(f'{number} không phải là số nguyên tố')\n",
    "nguyen_to(6)"
   ]
  },
  {
   "cell_type": "markdown",
   "id": "dea3b237",
   "metadata": {},
   "source": [
    "## Đối số có giá trị mặc định"
   ]
  },
  {
   "cell_type": "code",
   "execution_count": null,
   "id": "8e871a22",
   "metadata": {},
   "outputs": [],
   "source": [
    " # Viết hàm greetings() nhận vào 'name' và 'sentence', sau đó in ra câu chào tương ứng"
   ]
  },
  {
   "cell_type": "code",
   "execution_count": 1,
   "id": "bb44715a",
   "metadata": {},
   "outputs": [
    {
     "name": "stdout",
     "output_type": "stream",
     "text": [
      "Hello Hoan, how are you\n"
     ]
    }
   ],
   "source": [
    "# greetings('Hoan', how are you) --> Hello Hoan, how are you\n",
    "def greetings(name, sentence):\n",
    "    print(f'Hello {name}, {sentence}')\n",
    "    \n",
    "greetings('Hoan','how are you')\n"
   ]
  },
  {
   "cell_type": "markdown",
   "id": "4cb69485",
   "metadata": {},
   "source": [
    "## Giá trị trả về của hàm"
   ]
  },
  {
   "cell_type": "markdown",
   "id": "e4fac396",
   "metadata": {},
   "source": [
    "\n",
    "# return\n",
    "\n",
    "Cú pháp:\n",
    "\n",
    "`return <giá trị trả về>`\n",
    "\n",
    "##### Lưu ý: Sau khi thực hiện lệnh return, chương trình sẽ thoát khỏi hàm ngay lập tức (những lệnh sau đó không được thực hiện)\n",
    "\n",
    "Ví dụ:\n",
    "\n",
    "Hãy viết 1 hàm trả về giá trị trung bình của 2 số bất kỳ"
   ]
  },
  {
   "cell_type": "code",
   "execution_count": 4,
   "id": "028b09bc",
   "metadata": {},
   "outputs": [
    {
     "name": "stdout",
     "output_type": "stream",
     "text": [
      "4.0\n"
     ]
    }
   ],
   "source": [
    "def tinh_TB(num1, num2):\n",
    "    TB = (num1 + num2) / 2\n",
    "    return TB\n",
    "result = tinh_TB(3,5)\n",
    "print(result)"
   ]
  },
  {
   "cell_type": "code",
   "execution_count": 5,
   "id": "24592238",
   "metadata": {},
   "outputs": [
    {
     "name": "stdout",
     "output_type": "stream",
     "text": [
      "16\n"
     ]
    }
   ],
   "source": [
    "# Hàm tính chiều dài của chuỗi\n",
    "# Viết hàm string_len(string) nhận vào một 'string' và trả về độ dài của string đó\n",
    "def string_len(string):\n",
    "    return len(string)\n",
    "\n",
    "content = 'nguyenthikimhoan'\n",
    "print(string_len(content))"
   ]
  },
  {
   "cell_type": "code",
   "execution_count": 10,
   "id": "56d947d8",
   "metadata": {},
   "outputs": [
    {
     "name": "stdout",
     "output_type": "stream",
     "text": [
      "24\n"
     ]
    }
   ],
   "source": [
    "# Hàm tính giai thừa\n",
    "# Viết hàm calc_factorial(num) nhận vào 1 số 'num' và trả về giai thừa của nó\n",
    "def calc_factorial(num):\n",
    "    if num == 0 or num == 1:\n",
    "        return 1\n",
    "    else:\n",
    "        result = 1\n",
    "        for i in range(2, num + 1):\n",
    "            result *= i\n",
    "            \n",
    "        return result\n",
    "    \n",
    "print(calc_factorial(4))"
   ]
  },
  {
   "cell_type": "code",
   "execution_count": 11,
   "id": "0178d43e",
   "metadata": {},
   "outputs": [
    {
     "name": "stdout",
     "output_type": "stream",
     "text": [
      "False\n"
     ]
    }
   ],
   "source": [
    "# Hàm kiểm tra năm nhuận\n",
    "# Viết hàm is_leap_year(year) nhận vào giá trị năm 'year' và trả về gí trị True nếu là năm nhuận, giá trị False nếu là năm không nhuận\n",
    "def is_leap_year(year):\n",
    "    if year % 400 == 0 or (year % 4 == 0 and year % 100 != 0):\n",
    "        return True\n",
    "    return False\n",
    "\n",
    "print(is_leap_year(3000))\n",
    "        \n"
   ]
  }
 ],
 "metadata": {
  "kernelspec": {
   "display_name": "Python 3 (ipykernel)",
   "language": "python",
   "name": "python3"
  },
  "language_info": {
   "codemirror_mode": {
    "name": "ipython",
    "version": 3
   },
   "file_extension": ".py",
   "mimetype": "text/x-python",
   "name": "python",
   "nbconvert_exporter": "python",
   "pygments_lexer": "ipython3",
   "version": "3.10.4"
  }
 },
 "nbformat": 4,
 "nbformat_minor": 5
}
