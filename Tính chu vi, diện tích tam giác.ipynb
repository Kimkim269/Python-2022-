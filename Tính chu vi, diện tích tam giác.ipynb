{
 "cells": [
  {
   "cell_type": "code",
   "execution_count": 9,
   "id": "9691c1aa",
   "metadata": {},
   "outputs": [],
   "source": [
    "# Thực hành vẽ hình tròn với bán kính r\n",
    "import turtle\n",
    "pen = turtle.Turtle()\n",
    "pen.pensize(5)\n",
    "r = 20\n",
    "pen.color('red')\n",
    "pen.circle(r)\n",
    "turtle.done()"
   ]
  },
  {
   "cell_type": "code",
   "execution_count": null,
   "id": "1766131a",
   "metadata": {},
   "outputs": [],
   "source": [
    "# Tính chu vi và diện tích hình tròn\n",
    "import math\n",
    "r = int(input('Nhập vào bán kính của hình tròn: '))\n",
    "c = 2 * math.pi * r\n",
    "s = math.pi * r * r\n",
    "print('Chu vi của hình tròn là: ', c)\n",
    "print('Diện tích của hình tròn là: ', s)"
   ]
  }
 ],
 "metadata": {
  "kernelspec": {
   "display_name": "Python 3 (ipykernel)",
   "language": "python",
   "name": "python3"
  },
  "language_info": {
   "codemirror_mode": {
    "name": "ipython",
    "version": 3
   },
   "file_extension": ".py",
   "mimetype": "text/x-python",
   "name": "python",
   "nbconvert_exporter": "python",
   "pygments_lexer": "ipython3",
   "version": "3.10.4"
  }
 },
 "nbformat": 4,
 "nbformat_minor": 5
}
