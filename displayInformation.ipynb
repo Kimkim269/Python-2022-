{
 "cells": [
  {
   "cell_type": "code",
   "execution_count": 2,
   "id": "de7ae018",
   "metadata": {},
   "outputs": [
    {
     "name": "stdout",
     "output_type": "stream",
     "text": [
      "Họ và tên: Nguyễn Thị Kim Hoan\n",
      "32 tuổi\n",
      "Nghề nghiệp: Giáo viên\n",
      "Địa chỉ: Hiền Quan - Tam Nông - Phú Thọ\n"
     ]
    }
   ],
   "source": [
    "# Thực hành in thông tin cá nhân\n",
    "print('Họ và tên: Nguyễn Thị Kim Hoan')\n",
    "print('32 tuổi')\n",
    "print('Nghề nghiệp: Giáo viên')\n",
    "print('Địa chỉ: Hiền Quan - Tam Nông - Phú Thọ')"
   ]
  }
 ],
 "metadata": {
  "kernelspec": {
   "display_name": "Python 3 (ipykernel)",
   "language": "python",
   "name": "python3"
  },
  "language_info": {
   "codemirror_mode": {
    "name": "ipython",
    "version": 3
   },
   "file_extension": ".py",
   "mimetype": "text/x-python",
   "name": "python",
   "nbconvert_exporter": "python",
   "pygments_lexer": "ipython3",
   "version": "3.10.4"
  }
 },
 "nbformat": 4,
 "nbformat_minor": 5
}
