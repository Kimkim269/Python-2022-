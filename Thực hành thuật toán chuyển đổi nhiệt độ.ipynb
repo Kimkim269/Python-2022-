{
 "cells": [
  {
   "cell_type": "code",
   "execution_count": 4,
   "id": "f7efa88e",
   "metadata": {},
   "outputs": [
    {
     "name": "stdout",
     "output_type": "stream",
     "text": [
      "Hãy nhập nhiệt độ cần đổi37\n",
      "Nhiệt độ khi chuyển thanh độ f là:  98.6\n"
     ]
    }
   ],
   "source": [
    "# Chuyển đổi nhiệt độ\n",
    "c = input('Hãy nhập nhiệt độ cần đổi')\n",
    "f = (9*(int(c))/5)+32\n",
    "print('Nhiệt độ khi chuyển thanh độ f là: ', f)"
   ]
  }
 ],
 "metadata": {
  "kernelspec": {
   "display_name": "Python 3 (ipykernel)",
   "language": "python",
   "name": "python3"
  },
  "language_info": {
   "codemirror_mode": {
    "name": "ipython",
    "version": 3
   },
   "file_extension": ".py",
   "mimetype": "text/x-python",
   "name": "python",
   "nbconvert_exporter": "python",
   "pygments_lexer": "ipython3",
   "version": "3.10.4"
  }
 },
 "nbformat": 4,
 "nbformat_minor": 5
}
