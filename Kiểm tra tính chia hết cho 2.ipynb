{
 "cells": [
  {
   "cell_type": "code",
   "execution_count": 4,
   "id": "eb544b4a",
   "metadata": {},
   "outputs": [
    {
     "name": "stdout",
     "output_type": "stream",
     "text": [
      "Nhập số cần kiểm tra: 35\n",
      "Số vừa nhập không chia hết cho 2\n"
     ]
    }
   ],
   "source": [
    "# Nhập vào 1 số nguyên, kiểm tra xem số nguyên đó có chia hết cho 2 không?\n",
    "n = int(input('Nhập số cần kiểm tra: '))\n",
    "if n % 2 == 0:\n",
    " print('Số vừa nhập chia hết cho 2');\n",
    "else:\n",
    "      print('Số vừa nhập không chia hết cho 2')"
   ]
  }
 ],
 "metadata": {
  "kernelspec": {
   "display_name": "Python 3 (ipykernel)",
   "language": "python",
   "name": "python3"
  },
  "language_info": {
   "codemirror_mode": {
    "name": "ipython",
    "version": 3
   },
   "file_extension": ".py",
   "mimetype": "text/x-python",
   "name": "python",
   "nbconvert_exporter": "python",
   "pygments_lexer": "ipython3",
   "version": "3.10.4"
  }
 },
 "nbformat": 4,
 "nbformat_minor": 5
}
