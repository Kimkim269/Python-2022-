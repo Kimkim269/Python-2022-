{
 "cells": [
  {
   "cell_type": "code",
   "execution_count": 24,
   "id": "d495d11a",
   "metadata": {},
   "outputs": [],
   "source": [
    "# Bài thực hành vẽ mặt cười\n",
    "import turtle\n",
    "pen = turtle.Turtle()\n",
    "pen.pensize(5)\n",
    "pen.pencolor(\"#3933FF\") # Đổi nét vẽ\n",
    "pen.shape(\"circle\")  # Đổi hình dạng bút\n",
    "pen.penup()\n",
    "pen.goto(0, -200)\n",
    "pen.pendown()\n",
    "facesize = 200\n",
    "pen.circle(facesize)\n",
    "pen.penup()\n",
    "pen.goto(50, 50)\n",
    "\n",
    "pen.begin_fill()\n",
    "pen.pendown()\n",
    "eyesize1 = 10\n",
    "pen.circle(eyesize1)\n",
    "pen.end_fill()\n",
    "\n",
    "pen.penup()\n",
    "pen.goto(-50, 50)\n",
    "\n",
    "pen.begin_fill()\n",
    "pen.pendown()\n",
    "eyesize2 = 10\n",
    "pen.circle(eyesize2)\n",
    "pen.end_fill()\n",
    " \n",
    "pen.penup()\n",
    "pen.goto(0, -50)\n",
    "\n",
    "pen.begin_fill()\n",
    "pen.pendown()\n",
    "nosesize = 10\n",
    "pen.circle(nosesize, steps = 3) # Step để vẽ ra số cạnh mong muốn\n",
    "pen.end_fill()\n",
    "\n",
    "pen.penup()\n",
    "pen.goto(-60, -100)\n",
    "\n",
    "pen.begin_fill()\n",
    "pen.pendown()\n",
    "pen.right(90)\n",
    "pen.circle(60, 180)\n",
    "pen.end_fill()\n",
    "\n",
    "turtle.done()"
   ]
  },
  {
   "cell_type": "code",
   "execution_count": 1,
   "id": "b6cd08b5",
   "metadata": {},
   "outputs": [
    {
     "name": "stdout",
     "output_type": "stream",
     "text": [
      "Nhập độ dài cạnh a= 10\n",
      "Nhập độ dài cạnh b=20\n",
      "Nhập độ dài cạnh c=30\n"
     ]
    },
    {
     "ename": "TypeError",
     "evalue": "unsupported operand type(s) for /: 'str' and 'int'",
     "output_type": "error",
     "traceback": [
      "\u001b[1;31m---------------------------------------------------------------------------\u001b[0m",
      "\u001b[1;31mTypeError\u001b[0m                                 Traceback (most recent call last)",
      "Input \u001b[1;32mIn [1]\u001b[0m, in \u001b[0;36m<module>\u001b[1;34m\u001b[0m\n\u001b[0;32m      3\u001b[0m b \u001b[38;5;241m=\u001b[39m \u001b[38;5;28minput\u001b[39m(\u001b[38;5;124m'\u001b[39m\u001b[38;5;124mNhập độ dài cạnh b=\u001b[39m\u001b[38;5;124m'\u001b[39m)\n\u001b[0;32m      4\u001b[0m c \u001b[38;5;241m=\u001b[39m \u001b[38;5;28minput\u001b[39m(\u001b[38;5;124m'\u001b[39m\u001b[38;5;124mNhập độ dài cạnh c=\u001b[39m\u001b[38;5;124m'\u001b[39m)\n\u001b[1;32m----> 5\u001b[0m p \u001b[38;5;241m=\u001b[39m \u001b[43m(\u001b[49m\u001b[43ma\u001b[49m\u001b[43m \u001b[49m\u001b[38;5;241;43m+\u001b[39;49m\u001b[43m \u001b[49m\u001b[43mb\u001b[49m\u001b[43m \u001b[49m\u001b[38;5;241;43m+\u001b[39;49m\u001b[43m \u001b[49m\u001b[43mc\u001b[49m\u001b[43m)\u001b[49m\u001b[38;5;241;43m/\u001b[39;49m\u001b[38;5;241;43m2\u001b[39;49m\n\u001b[0;32m      6\u001b[0m s \u001b[38;5;241m=\u001b[39m (p \u001b[38;5;241m*\u001b[39m (p \u001b[38;5;241m-\u001b[39m a) \u001b[38;5;241m*\u001b[39m (p \u001b[38;5;241m-\u001b[39m b) \u001b[38;5;241m*\u001b[39m (p \u001b[38;5;241m-\u001b[39m c)) \u001b[38;5;241m*\u001b[39m\u001b[38;5;241m*\u001b[39m \u001b[38;5;241m0.5\u001b[39m\n\u001b[0;32m      7\u001b[0m \u001b[38;5;28mprint\u001b[39m(\u001b[38;5;124m'\u001b[39m\u001b[38;5;124mDiện tích tam giác ABC là: \u001b[39m\u001b[38;5;124m'\u001b[39m, s)\n",
      "\u001b[1;31mTypeError\u001b[0m: unsupported operand type(s) for /: 'str' and 'int'"
     ]
    }
   ],
   "source": [
    "# Thực hành tính diện tích tam giác\n",
    "a = input('Nhập độ dài cạnh a= ')\n",
    "b = input('Nhập độ dài cạnh b=')\n",
    "c = input('Nhập độ dài cạnh c=')\n",
    "p = (a + b + c)/2\n",
    "s = (p * (p - a) * (p - b) * (p - c)) ** 0.5\n",
    "print('Diện tích tam giác ABC là: ', s)"
   ]
  }
 ],
 "metadata": {
  "kernelspec": {
   "display_name": "Python 3 (ipykernel)",
   "language": "python",
   "name": "python3"
  },
  "language_info": {
   "codemirror_mode": {
    "name": "ipython",
    "version": 3
   },
   "file_extension": ".py",
   "mimetype": "text/x-python",
   "name": "python",
   "nbconvert_exporter": "python",
   "pygments_lexer": "ipython3",
   "version": "3.10.4"
  }
 },
 "nbformat": 4,
 "nbformat_minor": 5
}
