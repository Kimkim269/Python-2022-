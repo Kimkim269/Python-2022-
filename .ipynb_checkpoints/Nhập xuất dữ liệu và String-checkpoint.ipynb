{
 "cells": [
  {
   "cell_type": "markdown",
   "id": "7ac14915",
   "metadata": {},
   "source": [
    "# Nhập xuất dữ liệu và String\n",
    "## Cách nhập xuất dữ liệu"
   ]
  },
  {
   "cell_type": "markdown",
   "id": "0f202ae8",
   "metadata": {},
   "source": [
    "### Xuất dữ liệu ra màn hình\n",
    "Để in các nội dung mà chúng ta mong muốn ra màn hình, ta sử dụng lệnh print()"
   ]
  },
  {
   "cell_type": "code",
   "execution_count": 1,
   "id": "a6d3f260",
   "metadata": {},
   "outputs": [
    {
     "name": "stdout",
     "output_type": "stream",
     "text": [
      "Python is very easy\n"
     ]
    }
   ],
   "source": [
    "# Ví dụ: In ra nội dung \"python is very easy\"\n",
    "print('Python is very easy')\n"
   ]
  },
  {
   "cell_type": "markdown",
   "id": "7733925a",
   "metadata": {},
   "source": [
    "### Các cách custom với lệnh print"
   ]
  },
  {
   "cell_type": "markdown",
   "id": "292ab570",
   "metadata": {},
   "source": [
    "Để in một nội dung kèm theo giá trị của biến, ta có các cách sau:"
   ]
  },
  {
   "cell_type": "code",
   "execution_count": 6,
   "id": "20ff912c",
   "metadata": {},
   "outputs": [],
   "source": [
    "food_1 = \"chocolate\"\n",
    "food_2 = \"sandwich\"\n",
    "# I love chocolate and I hate sandwich"
   ]
  },
  {
   "cell_type": "code",
   "execution_count": 2,
   "id": "6407a448",
   "metadata": {},
   "outputs": [
    {
     "name": "stdout",
     "output_type": "stream",
     "text": [
      "I love chocolate and I hate sandwich\n"
     ]
    }
   ],
   "source": [
    "# In trực tiếp\n",
    "print('I love chocolate and I hate sandwich')"
   ]
  },
  {
   "cell_type": "code",
   "execution_count": 9,
   "id": "27d098b8",
   "metadata": {},
   "outputs": [
    {
     "name": "stdout",
     "output_type": "stream",
     "text": [
      "I love  chocolate and I hate sandwich\n"
     ]
    }
   ],
   "source": [
    "# In bằng cách ghép các nội dung với nhau\n",
    "print('I love ', food_1,'and I hate', food_2)"
   ]
  },
  {
   "cell_type": "code",
   "execution_count": 8,
   "id": "717666f2",
   "metadata": {},
   "outputs": [
    {
     "name": "stdout",
     "output_type": "stream",
     "text": [
      "I love chocolate and I hate sandwich\n"
     ]
    }
   ],
   "source": [
    "# Sử dụng String Format\n",
    "print(f'I love {food_1} and I hate {food_2}')"
   ]
  },
  {
   "cell_type": "code",
   "execution_count": null,
   "id": "c7276e05",
   "metadata": {},
   "outputs": [],
   "source": [
    "# Sử dụng nhiều lệnh print\n",
    "# Cài đặt tham số end=\"\" sẽ không xuống dòng. Không cài đặt mặc định xuống dòng"
   ]
  },
  {
   "cell_type": "markdown",
   "id": "e10788fb",
   "metadata": {},
   "source": [
    "### Nhập dữ liệu\n",
    "Để nhập dữ liệu vào chương trình python, chúng ta sử dụng hàm input()"
   ]
  },
  {
   "cell_type": "code",
   "execution_count": 15,
   "id": "b8b8afd3",
   "metadata": {},
   "outputs": [
    {
     "name": "stdout",
     "output_type": "stream",
     "text": [
      "Input your name Hoan\n",
      "Nhập vào số tháng: 3\n"
     ]
    },
    {
     "data": {
      "text/plain": [
       "3"
      ]
     },
     "execution_count": 15,
     "metadata": {},
     "output_type": "execute_result"
    }
   ],
   "source": [
    "name = input('Input your name ')\n",
    "# Khi nhập bất kể kiểu gì input sử lý xong sẽ trả lại kiểu String\n",
    "# Muốn làm việc với kiểu khác phải định nghĩa kiểu\n",
    "int(input('Nhập vào số tháng: '))"
   ]
  },
  {
   "cell_type": "markdown",
   "id": "337f9c15",
   "metadata": {},
   "source": [
    "#### Thực hành: Viết chương trình nhập vào chiều dài và chiều rộng của hình chữ nhật, sau đó in ra chu vi và diện tích của hình chữ nhật đó"
   ]
  },
  {
   "cell_type": "code",
   "execution_count": 12,
   "id": "add68103",
   "metadata": {},
   "outputs": [
    {
     "name": "stdout",
     "output_type": "stream",
     "text": [
      "Nhập chiều dài hình chữ nhật: 3.5\n",
      "Nhập chiều rộng hình chữ nhật: 2\n"
     ]
    }
   ],
   "source": [
    "# Nhập các kích thước của hình chữ nhật\n",
    "a = float(input('Nhập chiều dài hình chữ nhật: '))\n",
    "b = float(input('Nhập chiều rộng hình chữ nhật: '))"
   ]
  },
  {
   "cell_type": "code",
   "execution_count": 13,
   "id": "7a1cd73e",
   "metadata": {},
   "outputs": [],
   "source": [
    "# Tính toán chu vi, diện tích\n",
    "P = 2 * (a + b)\n",
    "S = a * b"
   ]
  },
  {
   "cell_type": "code",
   "execution_count": 14,
   "id": "d0adf735",
   "metadata": {},
   "outputs": [
    {
     "name": "stdout",
     "output_type": "stream",
     "text": [
      "Chu vi hình chữ nhật là:  11.0\n",
      "Diện tích hình chữ nhật là:  7.0\n"
     ]
    }
   ],
   "source": [
    "# In kết quả ra màn hình bằng 3 cách\n",
    "print('Chu vi hình chữ nhật là: ', P)\n",
    "print('Diện tích hình chữ nhật là: ', S)"
   ]
  },
  {
   "cell_type": "markdown",
   "id": "fb54cb77",
   "metadata": {},
   "source": [
    "#### Thực hành: Viết chương trình nhập vào số đo cạnh và mã màu của tam giác đều, sau đó sử dụng turtle để vẽ ra hình tam giác có số đo và màu tương ứng"
   ]
  },
  {
   "cell_type": "code",
   "execution_count": 1,
   "id": "55eaf5b6",
   "metadata": {},
   "outputs": [
    {
     "name": "stdout",
     "output_type": "stream",
     "text": [
      "Nhập số đo của cạnh tam giác đều: 100\n"
     ]
    }
   ],
   "source": [
    "tam_giac = float(input('Nhập số đo của cạnh tam giác đều: '))\n",
    "import turtle\n",
    "pen = turtle.Turtle()\n",
    "pen.fillcolor('#33FF99')\n",
    "pen.color('#33FF99')\n",
    "pen.penup()\n",
    "pen.goto(0, 100)\n",
    "pen.pendown()\n",
    "pen.begin_fill()\n",
    "pen.circle(-70, steps = 3)\n",
    "pen.end_fill()\n",
    "turtle.done()"
   ]
  },
  {
   "cell_type": "markdown",
   "id": "fa7cb208",
   "metadata": {},
   "source": [
    "## Cú pháp import"
   ]
  },
  {
   "cell_type": "markdown",
   "id": "ab2a2ea5",
   "metadata": {},
   "source": [
    "Để sử dụng một module từ bên ngoài, chúng ta sẽ sử dụng từ khóa import. Sau đây là ví dụ về một số cách import phổ biến."
   ]
  },
  {
   "cell_type": "markdown",
   "id": "bd6de377",
   "metadata": {},
   "source": [
    "### Random một giá trị ngẫu nhiên"
   ]
  },
  {
   "cell_type": "code",
   "execution_count": null,
   "id": "ce5547f5",
   "metadata": {},
   "outputs": [],
   "source": []
  },
  {
   "cell_type": "markdown",
   "id": "dfa93dc0",
   "metadata": {},
   "source": [
    "### Thực hiện các phép toán số học"
   ]
  },
  {
   "cell_type": "code",
   "execution_count": 8,
   "id": "4f06f722",
   "metadata": {},
   "outputs": [],
   "source": [
    "# import toàn bộ module"
   ]
  },
  {
   "cell_type": "code",
   "execution_count": null,
   "id": "6b9e471b",
   "metadata": {},
   "outputs": [],
   "source": [
    "# import một phần trong module"
   ]
  },
  {
   "cell_type": "markdown",
   "id": "391969e7",
   "metadata": {},
   "source": [
    "## Xử lý String trong python"
   ]
  },
  {
   "cell_type": "markdown",
   "id": "ab461669",
   "metadata": {},
   "source": [
    "### String là gì?\n",
    "String là một chuỗi gồm các ký tự Unicode"
   ]
  },
  {
   "cell_type": "markdown",
   "id": "94a27b90",
   "metadata": {},
   "source": [
    "### Khởi tạo một string"
   ]
  },
  {
   "cell_type": "code",
   "execution_count": 10,
   "id": "b14f4fcc",
   "metadata": {},
   "outputs": [],
   "source": [
    "# one-line string\n",
    "course_name = 'Python Fundamental'"
   ]
  },
  {
   "cell_type": "code",
   "execution_count": 3,
   "id": "9cc506a7",
   "metadata": {},
   "outputs": [],
   "source": [
    "# multi-line string\n",
    "lesson_detail = '''GPĐKKD số 0107793908 do Sở Kế hoạch\n",
    "và Đầu tư Thành phố Hà Nội cấp ngày 05/04/2017'''"
   ]
  },
  {
   "cell_type": "markdown",
   "id": "8f4270fd",
   "metadata": {},
   "source": [
    "### Các thao tác phổ biến với string"
   ]
  },
  {
   "cell_type": "code",
   "execution_count": 7,
   "id": "c825f890",
   "metadata": {},
   "outputs": [
    {
     "name": "stdout",
     "output_type": "stream",
     "text": [
      "18\n"
     ]
    }
   ],
   "source": [
    "# Kiểm tra độ dài string\n",
    "print(len(course_name))"
   ]
  },
  {
   "cell_type": "code",
   "execution_count": 12,
   "id": "6de96621",
   "metadata": {},
   "outputs": [
    {
     "name": "stdout",
     "output_type": "stream",
     "text": [
      "w\n"
     ]
    }
   ],
   "source": [
    "# Truy xuất ký tự bằng cơ chế indexing và reverse indexing\n",
    "content = 'Hello world'\n",
    "print(content[6])"
   ]
  },
  {
   "cell_type": "markdown",
   "id": "a4f949d9",
   "metadata": {},
   "source": [
    "#### Thực hành: Viết chương trình nhập vào một chuỗi bất kỳ, sau đó in ra ký tự đầu tiên và ký tự cuối cùng của chuỗi đó."
   ]
  },
  {
   "cell_type": "code",
   "execution_count": 17,
   "id": "14833f18",
   "metadata": {},
   "outputs": [
    {
     "name": "stdout",
     "output_type": "stream",
     "text": [
      "Nhập dữ liệu: Nguyễn Thị Kim Hoan\n",
      "Kí tự đầu tiên là:  N\n",
      "Kí tự cuối cùng là:  n\n"
     ]
    }
   ],
   "source": [
    "name = input('Nhập dữ liệu: ')\n",
    "print('Kí tự đầu tiên là: ',name[0])\n",
    "print('Kí tự cuối cùng là: ',name[-1])"
   ]
  },
  {
   "cell_type": "code",
   "execution_count": 21,
   "id": "9aad2f16",
   "metadata": {},
   "outputs": [
    {
     "name": "stdout",
     "output_type": "stream",
     "text": [
      "Xin\n",
      "chào\n"
     ]
    }
   ],
   "source": [
    "# Cắt string theo index\n",
    "a = 'Xin chào mọi người'\n",
    "b = a[0:3]\n",
    "print(b)\n",
    "c = a[4:8]\n",
    "print(c)"
   ]
  },
  {
   "cell_type": "code",
   "execution_count": 22,
   "id": "6ec63f90",
   "metadata": {},
   "outputs": [
    {
     "name": "stdout",
     "output_type": "stream",
     "text": [
      "Xin chào\n"
     ]
    }
   ],
   "source": [
    "# Ghép chuỗi và lặp chuỗi\n",
    "# Phép cộng chuỗi và nhân chuỗi\n",
    "a = 'Xin'\n",
    "b = 'chào'\n",
    "c = a + ' ' + b\n",
    "print(c)"
   ]
  },
  {
   "cell_type": "code",
   "execution_count": 25,
   "id": "0dc6df90",
   "metadata": {},
   "outputs": [
    {
     "name": "stdout",
     "output_type": "stream",
     "text": [
      "1chào\n"
     ]
    }
   ],
   "source": [
    "a = str(1)\n",
    "b = 'chào'\n",
    "c = a + b\n",
    "print(c)\n",
    "# Báo lỗi. Phép cộng chuỗi chỉ được cộng 2 chuỗi với nhau."
   ]
  },
  {
   "cell_type": "code",
   "execution_count": 26,
   "id": "fc204d8b",
   "metadata": {},
   "outputs": [
    {
     "name": "stdout",
     "output_type": "stream",
     "text": [
      "3\n",
      "12\n"
     ]
    }
   ],
   "source": [
    "a = 1\n",
    "b = 2\n",
    "c = '1'\n",
    "d = '2'\n",
    "ab = a + b\n",
    "cd = c + d\n",
    "print(ab)\n",
    "print(cd)"
   ]
  },
  {
   "cell_type": "markdown",
   "id": "84c2dcb9",
   "metadata": {},
   "source": [
    "#### Thực hành: Xử lý và in ra các thông tin tương ứng trong chuỗi"
   ]
  },
  {
   "cell_type": "code",
   "execution_count": 27,
   "id": "cd71f135",
   "metadata": {},
   "outputs": [
    {
     "name": "stdout",
     "output_type": "stream",
     "text": [
      "Nhập tên: Kim Hoan\n",
      "Xin chào Kim Hoan\n"
     ]
    }
   ],
   "source": [
    "# Nhập vào tên, sau đó in ra dòng chữ 'Xin chào tên'\n",
    "a = input('Nhập tên: ')\n",
    "b = 'Xin chào'\n",
    "c = b + ' ' + a\n",
    "print(c)"
   ]
  },
  {
   "cell_type": "markdown",
   "id": "7cbd965f",
   "metadata": {},
   "source": [
    "### Các hàm thông dụng khi xử lý string"
   ]
  },
  {
   "cell_type": "code",
   "execution_count": 28,
   "id": "eb5932a1",
   "metadata": {},
   "outputs": [
    {
     "name": "stdout",
     "output_type": "stream",
     "text": [
      "19\n"
     ]
    }
   ],
   "source": [
    "# len\n",
    "a = 'Nguyễn Thị Kim Hoan'\n",
    "print(len(a))"
   ]
  },
  {
   "cell_type": "code",
   "execution_count": 31,
   "id": "6bef6d33",
   "metadata": {},
   "outputs": [
    {
     "name": "stdout",
     "output_type": "stream",
     "text": [
      "2\n"
     ]
    }
   ],
   "source": [
    "# count\n",
    "a = 'xin chào các bạn, xin chào mọi người'\n",
    "b = 'xin chào'\n",
    "c = a.count(b)   #Trả về kiểu dữ liệu số nguyên\n",
    "print(c)"
   ]
  },
  {
   "cell_type": "code",
   "execution_count": 33,
   "id": "1582bbd8",
   "metadata": {
    "scrolled": true
   },
   "outputs": [
    {
     "name": "stdout",
     "output_type": "stream",
     "text": [
      "XIN CHÀO\n",
      "xin chào\n"
     ]
    }
   ],
   "source": [
    "# upper, lower\n",
    "a = 'xin chào'\n",
    "a = a.upper() #Trả về chuỗi viết hoa toàn bộ kí tự của chuỗi đưa vào\n",
    "print(a)\n",
    "b = 'Xin chào'\n",
    "b = b.lower()\n",
    "print(b)"
   ]
  },
  {
   "cell_type": "code",
   "execution_count": 35,
   "id": "7bcc3dca",
   "metadata": {},
   "outputs": [
    {
     "name": "stdout",
     "output_type": "stream",
     "text": [
      "4\n"
     ]
    }
   ],
   "source": [
    "# Lệnh find\n",
    "a = 'Xin chào Nguyễn Thị Kim Hoan'\n",
    "b = 'chào'\n",
    "c = a.find(b)\n",
    "print(c)"
   ]
  },
  {
   "cell_type": "code",
   "execution_count": null,
   "id": "0d08f708",
   "metadata": {},
   "outputs": [],
   "source": [
    "# lstrip, rstrip, strip"
   ]
  },
  {
   "cell_type": "code",
   "execution_count": null,
   "id": "62180d52",
   "metadata": {},
   "outputs": [],
   "source": [
    "# split"
   ]
  },
  {
   "cell_type": "markdown",
   "id": "032ba1fc",
   "metadata": {},
   "source": []
  }
 ],
 "metadata": {
  "kernelspec": {
   "display_name": "Python 3 (ipykernel)",
   "language": "python",
   "name": "python3"
  },
  "language_info": {
   "codemirror_mode": {
    "name": "ipython",
    "version": 3
   },
   "file_extension": ".py",
   "mimetype": "text/x-python",
   "name": "python",
   "nbconvert_exporter": "python",
   "pygments_lexer": "ipython3",
   "version": "3.10.4"
  }
 },
 "nbformat": 4,
 "nbformat_minor": 5
}
