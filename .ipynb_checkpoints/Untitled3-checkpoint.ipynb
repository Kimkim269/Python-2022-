{
 "cells": [
  {
   "cell_type": "code",
   "execution_count": 3,
   "id": "0fad80b6",
   "metadata": {},
   "outputs": [
    {
     "name": "stdout",
     "output_type": "stream",
     "text": [
      "Nhập số tiền đã chi:  200\n",
      "Số tiền bạn phải thanh toán là:  150.0\n"
     ]
    }
   ],
   "source": [
    "# Viết chương trình hỏi người dùng đã chi bao nhiêu tiền tại cửa hàng.\n",
    "\n",
    "# Nếu họ chi ít hơn 75$, họ sẽ không được giảm giá.\n",
    "\n",
    "# Nếu họ chi 75$ trở lên, họ sẽ được giảm giá 15$.\n",
    "\n",
    "# Nếu người dùng chi từ 100$ trở lên, họ sẽ được giảm giá 25$.\n",
    "\n",
    "# Nếu người dùng chi từ 150$ trở lên, họ sẽ được giảm giá 50$.\n",
    "# Sau đó in ra tổng số tiền mà người dùng phải thanh toán.\n",
    "\n",
    "a = float(input('Nhập số tiền đã chi:  '))\n",
    "if a >= 150:\n",
    "    print('Số tiền bạn phải thanh toán là: ',a - 50)\n",
    "elif a >= 100:\n",
    "    print('Số tiền bạn phải thanh toán là: ',a - 25)\n",
    "elif a >= 75:\n",
    "    print('Số tiền bạn phải thanh toán là: ',a - 15)\n",
    "else:\n",
    "    print('Số tiền bạn phải thanh toán là: ',a)"
   ]
  }
 ],
 "metadata": {
  "kernelspec": {
   "display_name": "Python 3 (ipykernel)",
   "language": "python",
   "name": "python3"
  },
  "language_info": {
   "codemirror_mode": {
    "name": "ipython",
    "version": 3
   },
   "file_extension": ".py",
   "mimetype": "text/x-python",
   "name": "python",
   "nbconvert_exporter": "python",
   "pygments_lexer": "ipython3",
   "version": "3.10.4"
  }
 },
 "nbformat": 4,
 "nbformat_minor": 5
}
