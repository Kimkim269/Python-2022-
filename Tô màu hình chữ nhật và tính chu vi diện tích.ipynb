{
 "cells": [
  {
   "cell_type": "code",
   "execution_count": 2,
   "id": "79bcca6c",
   "metadata": {},
   "outputs": [
    {
     "name": "stdout",
     "output_type": "stream",
     "text": [
      "Nhập mã màu cần tô#008000\n",
      "Nhập chiều dài hình chữ nhật a= 10\n",
      "Nhập chiều rộng hình chữ nhật b= 5\n",
      "Chu vi hình chữ nhật là:  30.0\n",
      "Diện tích hình chữ nhật là:  50.0\n"
     ]
    }
   ],
   "source": [
    "# Tô màu cho hình chữ nhật\n",
    "import turtle\n",
    "pen = turtle.Turtle()\n",
    "mau = input('Nhập mã màu cần tô')\n",
    "a = float(input(\"Nhập chiều dài hình chữ nhật a= \"))\n",
    "b = float(input(\"Nhập chiều rộng hình chữ nhật b= \"))\n",
    "pen.hideturtle()\n",
    "pen.begin_fill()\n",
    "pen.forward(100)\n",
    "pen.right(90)\n",
    "pen.forward(50)\n",
    "pen.right(90)\n",
    "pen.forward(100)\n",
    "pen.right(90)\n",
    "pen.forward(50)\n",
    "pen.end_fill()\n",
    "turtle.done()\n",
    "c = 2 * (a + b)\n",
    "s = a * b\n",
    "print('Chu vi hình chữ nhật là: ', c)\n",
    "print('Diện tích hình chữ nhật là: ', s)"
   ]
  }
 ],
 "metadata": {
  "kernelspec": {
   "display_name": "Python 3 (ipykernel)",
   "language": "python",
   "name": "python3"
  },
  "language_info": {
   "codemirror_mode": {
    "name": "ipython",
    "version": 3
   },
   "file_extension": ".py",
   "mimetype": "text/x-python",
   "name": "python",
   "nbconvert_exporter": "python",
   "pygments_lexer": "ipython3",
   "version": "3.10.4"
  }
 },
 "nbformat": 4,
 "nbformat_minor": 5
}
