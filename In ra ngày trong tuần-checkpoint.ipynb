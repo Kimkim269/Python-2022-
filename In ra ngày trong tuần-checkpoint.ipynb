{
 "cells": [
  {
   "cell_type": "code",
   "execution_count": 1,
   "id": "845287eb",
   "metadata": {},
   "outputs": [
    {
     "name": "stdout",
     "output_type": "stream",
     "text": [
      "Mời bạn nhập vào 1 số!3\n",
      "Hôm nay là Thứ 3\n"
     ]
    }
   ],
   "source": [
    "# Viết chương trình yêu cầu người dùng nhập một số trong phạm vi từ 1 đến 7. Sau đó hãy in ra ngày tương ứng: \n",
    "n = int(input('Mời bạn nhập vào 1 số!' ))\n",
    "if n == 1:\n",
    "    print('Hôm nay là Chủ nhật')\n",
    "if n == 2:\n",
    "    print('Hôm nay là Thứ 2')\n",
    "if n == 3:\n",
    "    print('Hôm nay là Thứ 3')\n",
    "if n == 4:\n",
    "    print('Hôm nay là Thứ 4')\n",
    "if n == 5:\n",
    "    print('Hôm nay là Thứ 5')\n",
    "if n == 6:\n",
    "    print('Hôm nay là Thứ 6')\n",
    "if n == 7:\n",
    "    print('Hôm nay là Thứ 7')"
   ]
  }
 ],
 "metadata": {
  "kernelspec": {
   "display_name": "Python 3 (ipykernel)",
   "language": "python",
   "name": "python3"
  },
  "language_info": {
   "codemirror_mode": {
    "name": "ipython",
    "version": 3
   },
   "file_extension": ".py",
   "mimetype": "text/x-python",
   "name": "python",
   "nbconvert_exporter": "python",
   "pygments_lexer": "ipython3",
   "version": "3.10.4"
  }
 },
 "nbformat": 4,
 "nbformat_minor": 5
}
